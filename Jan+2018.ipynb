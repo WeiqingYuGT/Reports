{
 "cells": [
  {
   "cell_type": "markdown",
   "metadata": {},
   "source": [
    "# Age Gender profile for Jan 2018\n",
    "Following accuracy and coverage analysis are all for US alone. Please note the following: \n",
    "* Coverage in the previous e-mail I sent was for all the countries, but coverage in this report is for US alone. \n",
    "* Coverages in this report have no overlap, i.e. they are the coverage number in the final profile instead of number of estimations we have from clean supply or prediction.\n",
    "## Age Bracket"
   ]
  },
  {
   "cell_type": "code",
   "execution_count": 19,
   "metadata": {},
   "outputs": [
    {
     "data": {
      "text/html": [
       "<div>\n",
       "<style>\n",
       "    .dataframe thead tr:only-child th {\n",
       "        text-align: right;\n",
       "    }\n",
       "\n",
       "    .dataframe thead th {\n",
       "        text-align: left;\n",
       "    }\n",
       "\n",
       "    .dataframe tbody tr th {\n",
       "        vertical-align: top;\n",
       "    }\n",
       "</style>\n",
       "<table border=\"1\" class=\"dataframe\">\n",
       "  <thead>\n",
       "    <tr style=\"text-align: right;\">\n",
       "      <th></th>\n",
       "      <th>age</th>\n",
       "      <th>source</th>\n",
       "      <th>acc</th>\n",
       "      <th>coverage</th>\n",
       "      <th>18</th>\n",
       "      <th>25</th>\n",
       "      <th>35</th>\n",
       "      <th>45</th>\n",
       "      <th>55</th>\n",
       "      <th>65</th>\n",
       "    </tr>\n",
       "  </thead>\n",
       "  <tbody>\n",
       "    <tr>\n",
       "      <th>13</th>\n",
       "      <td>18</td>\n",
       "      <td>cs</td>\n",
       "      <td>0.568265</td>\n",
       "      <td>19856152</td>\n",
       "      <td>0.568265</td>\n",
       "      <td>0.238177</td>\n",
       "      <td>0.095203</td>\n",
       "      <td>0.057456</td>\n",
       "      <td>0.023747</td>\n",
       "      <td>0.017633</td>\n",
       "    </tr>\n",
       "    <tr>\n",
       "      <th>15</th>\n",
       "      <td>18</td>\n",
       "      <td>pred</td>\n",
       "      <td>0.535320</td>\n",
       "      <td>9232145</td>\n",
       "      <td>0.535320</td>\n",
       "      <td>0.262600</td>\n",
       "      <td>0.109030</td>\n",
       "      <td>0.059660</td>\n",
       "      <td>0.018940</td>\n",
       "      <td>0.013940</td>\n",
       "    </tr>\n",
       "    <tr>\n",
       "      <th>14</th>\n",
       "      <td>25</td>\n",
       "      <td>cs</td>\n",
       "      <td>0.598705</td>\n",
       "      <td>20990980</td>\n",
       "      <td>0.146510</td>\n",
       "      <td>0.598705</td>\n",
       "      <td>0.152804</td>\n",
       "      <td>0.060216</td>\n",
       "      <td>0.025314</td>\n",
       "      <td>0.016451</td>\n",
       "    </tr>\n",
       "    <tr>\n",
       "      <th>1</th>\n",
       "      <td>25</td>\n",
       "      <td>pred</td>\n",
       "      <td>0.449240</td>\n",
       "      <td>5987862</td>\n",
       "      <td>0.260760</td>\n",
       "      <td>0.449240</td>\n",
       "      <td>0.166940</td>\n",
       "      <td>0.068580</td>\n",
       "      <td>0.028900</td>\n",
       "      <td>0.025420</td>\n",
       "    </tr>\n",
       "    <tr>\n",
       "      <th>5</th>\n",
       "      <td>35</td>\n",
       "      <td>cs</td>\n",
       "      <td>0.689240</td>\n",
       "      <td>5225856</td>\n",
       "      <td>0.043400</td>\n",
       "      <td>0.096880</td>\n",
       "      <td>0.689240</td>\n",
       "      <td>0.115440</td>\n",
       "      <td>0.035280</td>\n",
       "      <td>0.020200</td>\n",
       "    </tr>\n",
       "    <tr>\n",
       "      <th>11</th>\n",
       "      <td>35</td>\n",
       "      <td>pred</td>\n",
       "      <td>0.281390</td>\n",
       "      <td>7761939</td>\n",
       "      <td>0.142650</td>\n",
       "      <td>0.230970</td>\n",
       "      <td>0.281390</td>\n",
       "      <td>0.177880</td>\n",
       "      <td>0.106860</td>\n",
       "      <td>0.060250</td>\n",
       "    </tr>\n",
       "    <tr>\n",
       "      <th>10</th>\n",
       "      <td>45</td>\n",
       "      <td>cs</td>\n",
       "      <td>0.644120</td>\n",
       "      <td>2635190</td>\n",
       "      <td>0.048920</td>\n",
       "      <td>0.084900</td>\n",
       "      <td>0.120880</td>\n",
       "      <td>0.644120</td>\n",
       "      <td>0.074800</td>\n",
       "      <td>0.026300</td>\n",
       "    </tr>\n",
       "    <tr>\n",
       "      <th>8</th>\n",
       "      <td>45</td>\n",
       "      <td>pred</td>\n",
       "      <td>0.237650</td>\n",
       "      <td>1434852</td>\n",
       "      <td>0.085050</td>\n",
       "      <td>0.119450</td>\n",
       "      <td>0.135700</td>\n",
       "      <td>0.237650</td>\n",
       "      <td>0.220150</td>\n",
       "      <td>0.202650</td>\n",
       "    </tr>\n",
       "    <tr>\n",
       "      <th>9</th>\n",
       "      <td>55</td>\n",
       "      <td>cs</td>\n",
       "      <td>0.697360</td>\n",
       "      <td>856716</td>\n",
       "      <td>0.020480</td>\n",
       "      <td>0.050520</td>\n",
       "      <td>0.070800</td>\n",
       "      <td>0.060920</td>\n",
       "      <td>0.697360</td>\n",
       "      <td>0.100880</td>\n",
       "    </tr>\n",
       "    <tr>\n",
       "      <th>0</th>\n",
       "      <td>55</td>\n",
       "      <td>pred</td>\n",
       "      <td>0.275200</td>\n",
       "      <td>776677</td>\n",
       "      <td>0.060200</td>\n",
       "      <td>0.089000</td>\n",
       "      <td>0.120200</td>\n",
       "      <td>0.212200</td>\n",
       "      <td>0.275200</td>\n",
       "      <td>0.243400</td>\n",
       "    </tr>\n",
       "    <tr>\n",
       "      <th>3</th>\n",
       "      <td>65</td>\n",
       "      <td>cs</td>\n",
       "      <td>0.738220</td>\n",
       "      <td>170142</td>\n",
       "      <td>0.000000</td>\n",
       "      <td>0.105390</td>\n",
       "      <td>0.105390</td>\n",
       "      <td>0.051000</td>\n",
       "      <td>0.000000</td>\n",
       "      <td>0.738220</td>\n",
       "    </tr>\n",
       "    <tr>\n",
       "      <th>6</th>\n",
       "      <td>65</td>\n",
       "      <td>pred</td>\n",
       "      <td>0.446560</td>\n",
       "      <td>743807</td>\n",
       "      <td>0.073600</td>\n",
       "      <td>0.073600</td>\n",
       "      <td>0.073600</td>\n",
       "      <td>0.111000</td>\n",
       "      <td>0.222000</td>\n",
       "      <td>0.446560</td>\n",
       "    </tr>\n",
       "  </tbody>\n",
       "</table>\n",
       "</div>"
      ],
      "text/plain": [
       "   age source       acc  coverage        18        25        35        45  \\\n",
       "13  18     cs  0.568265  19856152  0.568265  0.238177  0.095203  0.057456   \n",
       "15  18   pred  0.535320   9232145  0.535320  0.262600  0.109030  0.059660   \n",
       "14  25     cs  0.598705  20990980  0.146510  0.598705  0.152804  0.060216   \n",
       "1   25   pred  0.449240   5987862  0.260760  0.449240  0.166940  0.068580   \n",
       "5   35     cs  0.689240   5225856  0.043400  0.096880  0.689240  0.115440   \n",
       "11  35   pred  0.281390   7761939  0.142650  0.230970  0.281390  0.177880   \n",
       "10  45     cs  0.644120   2635190  0.048920  0.084900  0.120880  0.644120   \n",
       "8   45   pred  0.237650   1434852  0.085050  0.119450  0.135700  0.237650   \n",
       "9   55     cs  0.697360    856716  0.020480  0.050520  0.070800  0.060920   \n",
       "0   55   pred  0.275200    776677  0.060200  0.089000  0.120200  0.212200   \n",
       "3   65     cs  0.738220    170142  0.000000  0.105390  0.105390  0.051000   \n",
       "6   65   pred  0.446560    743807  0.073600  0.073600  0.073600  0.111000   \n",
       "\n",
       "          55        65  \n",
       "13  0.023747  0.017633  \n",
       "15  0.018940  0.013940  \n",
       "14  0.025314  0.016451  \n",
       "1   0.028900  0.025420  \n",
       "5   0.035280  0.020200  \n",
       "11  0.106860  0.060250  \n",
       "10  0.074800  0.026300  \n",
       "8   0.220150  0.202650  \n",
       "9   0.697360  0.100880  \n",
       "0   0.275200  0.243400  \n",
       "3   0.000000  0.738220  \n",
       "6   0.222000  0.446560  "
      ]
     },
     "execution_count": 19,
     "metadata": {},
     "output_type": "execute_result"
    }
   ],
   "source": [
    "import pandas as pd\n",
    "import os \n",
    "from process_util import agg_gender, double_axis\n",
    "import re\n",
    "import matplotlib.pyplot as plt\n",
    "import numpy as np\n",
    "\n",
    "dat = pd.read_csv('../data/acc_check_180131.txt',sep='\\t',header=None,\n",
    "                  names=['app_id','filename','cnt','f','m','f18','f25','f35',\n",
    "                         'f45','f55','f65','m18','m25','m35','m45','m55','m65'])\n",
    "dat1=agg_gender(dat).sort_values('filename')\n",
    "dat1 = dat1.iloc[:-4,]\n",
    "ab, src = ['18','25','35','45','55','65'], ['cs','pred']\n",
    "dat1['age'], dat1['source'], dat1['acc']=np.repeat(ab,2), src*6, np.nan\n",
    "dat1['coverage']=[19856152,9232145,20990980,5987862,5225856,7761939,2635190,1434852,856716,776677,170142,743807]\n",
    "dat1 = dat1[['age','source','acc','coverage','18','25','35','45','55','65']]\n",
    "for a in ab:\n",
    "    dat1.loc[dat1['age']==a,'acc']=dat1.loc[dat1['age']==a,a]\n",
    "dat1"
   ]
  },
  {
   "cell_type": "code",
   "execution_count": 20,
   "metadata": {},
   "outputs": [
    {
     "name": "stdout",
     "output_type": "stream",
     "text": [
      "Overall Accuracy: 0.536212062514\n"
     ]
    }
   ],
   "source": [
    "print('Overall Accuracy:',sum(dat1['acc']*dat1['coverage'])/sum(dat1['coverage']) )"
   ]
  },
  {
   "cell_type": "code",
   "execution_count": 38,
   "metadata": {},
   "outputs": [
    {
     "name": "stdout",
     "output_type": "stream",
     "text": [
      "Total Coverage for US: 75672318\n"
     ]
    }
   ],
   "source": [
    "print('Total Coverage for US:',sum(dat1['coverage']))"
   ]
  },
  {
   "cell_type": "markdown",
   "metadata": {},
   "source": [
    "## Gender"
   ]
  },
  {
   "cell_type": "code",
   "execution_count": 27,
   "metadata": {},
   "outputs": [],
   "source": [
    "dat2=dat.loc[dat.filename.str.contains('_[f,m]_')].sort_values('filename').drop(['app_id','cnt'],axis=1)"
   ]
  },
  {
   "cell_type": "code",
   "execution_count": 34,
   "metadata": {},
   "outputs": [],
   "source": [
    "dat2['coverage'], dat2['acc'] = [46255469,38834086,40543329,23111589],[0.750,0.745,0.752,0.720]\n",
    "dat2['gender'], dat2['source'] = ['f','f','m','m'],['cs','pred','cs','pred']"
   ]
  },
  {
   "cell_type": "code",
   "execution_count": 36,
   "metadata": {},
   "outputs": [
    {
     "data": {
      "text/html": [
       "<div>\n",
       "<style>\n",
       "    .dataframe thead tr:only-child th {\n",
       "        text-align: right;\n",
       "    }\n",
       "\n",
       "    .dataframe thead th {\n",
       "        text-align: left;\n",
       "    }\n",
       "\n",
       "    .dataframe tbody tr th {\n",
       "        vertical-align: top;\n",
       "    }\n",
       "</style>\n",
       "<table border=\"1\" class=\"dataframe\">\n",
       "  <thead>\n",
       "    <tr style=\"text-align: right;\">\n",
       "      <th></th>\n",
       "      <th>gender</th>\n",
       "      <th>source</th>\n",
       "      <th>acc</th>\n",
       "      <th>coverage</th>\n",
       "    </tr>\n",
       "  </thead>\n",
       "  <tbody>\n",
       "    <tr>\n",
       "      <th>7</th>\n",
       "      <td>f</td>\n",
       "      <td>cs</td>\n",
       "      <td>0.750</td>\n",
       "      <td>46255469</td>\n",
       "    </tr>\n",
       "    <tr>\n",
       "      <th>2</th>\n",
       "      <td>f</td>\n",
       "      <td>pred</td>\n",
       "      <td>0.745</td>\n",
       "      <td>38834086</td>\n",
       "    </tr>\n",
       "    <tr>\n",
       "      <th>12</th>\n",
       "      <td>m</td>\n",
       "      <td>cs</td>\n",
       "      <td>0.752</td>\n",
       "      <td>40543329</td>\n",
       "    </tr>\n",
       "    <tr>\n",
       "      <th>4</th>\n",
       "      <td>m</td>\n",
       "      <td>pred</td>\n",
       "      <td>0.720</td>\n",
       "      <td>23111589</td>\n",
       "    </tr>\n",
       "  </tbody>\n",
       "</table>\n",
       "</div>"
      ],
      "text/plain": [
       "   gender source    acc  coverage\n",
       "7       f     cs  0.750  46255469\n",
       "2       f   pred  0.745  38834086\n",
       "12      m     cs  0.752  40543329\n",
       "4       m   pred  0.720  23111589"
      ]
     },
     "execution_count": 36,
     "metadata": {},
     "output_type": "execute_result"
    }
   ],
   "source": [
    "dat2=dat2[['gender','source','acc','coverage']]\n",
    "dat2"
   ]
  },
  {
   "cell_type": "code",
   "execution_count": 37,
   "metadata": {},
   "outputs": [
    {
     "name": "stdout",
     "output_type": "stream",
     "text": [
      "Overall Accuracy: 0.744578410708\n",
      "Total Coverage for US: 148744473\n"
     ]
    }
   ],
   "source": [
    "print('Overall Accuracy:',sum(dat2['acc']*dat2['coverage'])/sum(dat2['coverage']))\n",
    "print('Total Coverage for US:',sum(dat2['coverage']))"
   ]
  },
  {
   "cell_type": "markdown",
   "metadata": {},
   "source": [
    "In general, the accuracy level is as expected. For some reason, if we use the same model and parameters, it seems that the coverage is slightly lower than last month in both clean supply. It is probably because I didn't have the time to update the bundle bracket rating list for the new user store data, and we may miss some of the bundle bracket? I have integrated the update of the bundle brackets into the pipeline. For the next time, I will update the bundle brackets rating list first. \n",
    "\n",
    "For the age model, I tuned down the FFM thresholds and clean supply rating thresholds a little bit for the age brackets to get some more coverage. In general, we get about the coverage size as we expected and the accuracy is slightly lower.\n",
    "\n",
    "As for the gender model, I also tuned the FFM thresholds to get more coverage and balance the male and female ratio a little bit. In general the coverage and accuracy are as expected."
   ]
  },
  {
   "cell_type": "code",
   "execution_count": null,
   "metadata": {
    "collapsed": true
   },
   "outputs": [],
   "source": []
  }
 ],
 "metadata": {
  "kernelspec": {
   "display_name": "Python 3",
   "language": "python",
   "name": "python3"
  },
  "language_info": {
   "codemirror_mode": {
    "name": "ipython",
    "version": 3
   },
   "file_extension": ".py",
   "mimetype": "text/x-python",
   "name": "python",
   "nbconvert_exporter": "python",
   "pygments_lexer": "ipython3",
   "version": "3.6.3"
  }
 },
 "nbformat": 4,
 "nbformat_minor": 2
}
